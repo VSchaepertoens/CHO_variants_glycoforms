{
 "cells": [
  {
   "cell_type": "code",
   "execution_count": 1,
   "metadata": {},
   "outputs": [],
   "source": [
    "import subprocess\n",
    "import os"
   ]
  },
  {
   "cell_type": "code",
   "execution_count": 2,
   "metadata": {},
   "outputs": [
    {
     "name": "stdout",
     "output_type": "stream",
     "text": [
      "['A16_1', 'A16_2', 'A19_1', 'A19_2', 'A2_1', 'A2_2', 'A3_1', 'A3_2', 'A4_1', 'A4_2', 'A8_1', 'A8_2']\n"
     ]
    }
   ],
   "source": [
    "# Specify the directory path\n",
    "base_folder = r\"C:\\Users\\b1095820\\Documents\\BOKU\\Herceptin_November_2023\\analysis\\2_nglycans_quantification\\2_3_cafog_corrected_glycans\"\n",
    "\n",
    "# List all directories in the specified path\n",
    "folder_names = [entry for entry in os.listdir(base_folder) if os.path.isdir(os.path.join(base_folder, entry))]\n",
    "\n",
    "# Print the list of folders\n",
    "print(folder_names)"
   ]
  },
  {
   "cell_type": "code",
   "execution_count": 7,
   "metadata": {},
   "outputs": [],
   "source": [
    "# Define the base folder and folder name\n",
    "# base_folder = r\"C:\\Users\\b1095820\\Documents\\DGTX\\FB2_PreliminaryDoE_Experiments\\analysis\\cafog\"\n",
    "# folder_names = ['A_2_120', 'A_2_264', 'A_3_120', 'A_3_264', 'B_2_120', 'B_2_264', 'C_1_120', 'C_1_264', 'C_2_120', 'C_2_264', 'C_3_120', 'C_3_264', 'D_1_120', 'D_1_264', 'D_2_120', 'D_2_264', 'D_3_120', 'D_3_264', 'E_1_120', 'E_1_264', 'E_2_120', 'E_2_264', 'E_3_120', 'E_3_264', 'F_1_120', 'F_1_264', 'F_2_120', 'F_2_264', 'F_3_120', 'F_3_264']"
   ]
  },
  {
   "cell_type": "code",
   "execution_count": 3,
   "metadata": {},
   "outputs": [
    {
     "name": "stdout",
     "output_type": "stream",
     "text": [
      "Analyzing folder: A16_1...\n",
      "Analysis of folder A16_1 completed successfully!\n",
      "Analyzing folder: A16_2...\n",
      "Analysis of folder A16_2 completed successfully!\n",
      "Analyzing folder: A19_1...\n",
      "Analysis of folder A19_1 completed successfully!\n",
      "Analyzing folder: A19_2...\n",
      "Analysis of folder A19_2 completed successfully!\n",
      "Analyzing folder: A2_1...\n",
      "Analysis of folder A2_1 completed successfully!\n",
      "Analyzing folder: A2_2...\n",
      "Analysis of folder A2_2 completed successfully!\n",
      "Analyzing folder: A3_1...\n",
      "Analysis of folder A3_1 completed successfully!\n",
      "Analyzing folder: A3_2...\n",
      "Analysis of folder A3_2 completed successfully!\n",
      "Analyzing folder: A4_1...\n",
      "Analysis of folder A4_1 completed successfully!\n",
      "Analyzing folder: A4_2...\n",
      "Analysis of folder A4_2 completed successfully!\n",
      "Analyzing folder: A8_1...\n",
      "Analysis of folder A8_1 completed successfully!\n",
      "Analyzing folder: A8_2...\n",
      "Analysis of folder A8_2 completed successfully!\n"
     ]
    }
   ],
   "source": [
    "# Iterate over each folder name and execute the analysis\n",
    "for folder_name in folder_names:\n",
    "    # Construct the command string with updated folder paths\n",
    "    command = (\n",
    "        f\"python cafog.py \"\n",
    "        f\"-f {base_folder}\\\\{folder_name}\\\\glycosylation.csv \"\n",
    "        f\"-g {base_folder}\\\\{folder_name}\\\\glycation.csv \"\n",
    "        f\"-l {base_folder}\\\\{folder_name}\\\\glycan_library.csv \"\n",
    "        f\"> {base_folder}\\\\{folder_name}\\\\results.csv\"\n",
    "    )\n",
    "\n",
    "    # Execute the command using subprocess with shell=True\n",
    "    try:\n",
    "        print(f\"Analyzing folder: {folder_name}...\")\n",
    "        subprocess.run(command, shell=True, check=True)\n",
    "        print(f\"Analysis of folder {folder_name} completed successfully!\")\n",
    "    except subprocess.CalledProcessError as e:\n",
    "        print(f\"Error analyzing folder {folder_name}: {e}\")\n"
   ]
  },
  {
   "cell_type": "code",
   "execution_count": null,
   "metadata": {},
   "outputs": [],
   "source": []
  }
 ],
 "metadata": {
  "kernelspec": {
   "display_name": "base",
   "language": "python",
   "name": "python3"
  },
  "language_info": {
   "codemirror_mode": {
    "name": "ipython",
    "version": 3
   },
   "file_extension": ".py",
   "mimetype": "text/x-python",
   "name": "python",
   "nbconvert_exporter": "python",
   "pygments_lexer": "ipython3",
   "version": "3.9.13"
  }
 },
 "nbformat": 4,
 "nbformat_minor": 2
}
